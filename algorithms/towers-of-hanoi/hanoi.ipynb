{
 "cells": [
  {
   "cell_type": "code",
   "execution_count": 4,
   "metadata": {},
   "outputs": [],
   "source": [
    "def move(f, t):\n",
    "    print(f\"Move disc fromo {f} to {t}!\")"
   ]
  },
  {
   "cell_type": "code",
   "execution_count": 7,
   "metadata": {},
   "outputs": [
    {
     "name": "stdout",
     "output_type": "stream",
     "text": [
      "Move disc from A to C!\n"
     ]
    }
   ],
   "source": [
    "move('A', 'C')"
   ]
  },
  {
   "cell_type": "code",
   "execution_count": 8,
   "metadata": {},
   "outputs": [],
   "source": [
    "def moveVia(f, v, t):\n",
    "    move(f, v)\n",
    "    move(v, t)"
   ]
  },
  {
   "cell_type": "code",
   "execution_count": 9,
   "metadata": {},
   "outputs": [
    {
     "name": "stdout",
     "output_type": "stream",
     "text": [
      "Move disc from A to B!\n",
      "Move disc from B to C!\n"
     ]
    }
   ],
   "source": [
    "moveVia('A', 'B', 'C')"
   ]
  },
  {
   "cell_type": "code",
   "execution_count": null,
   "metadata": {},
   "outputs": [],
   "source": [
    "# Can a function move itself?\n",
    "def foo(x):\n",
    "    foox(x)\n",
    "# You can guess what happens(max stack depth)"
   ]
  },
  {
   "cell_type": "code",
   "execution_count": 23,
   "metadata": {},
   "outputs": [],
   "source": [
    "def hanoi(n, f, h, t):\n",
    "    if n == 0:\n",
    "        return\n",
    "    hanoi(n-1, f, t, h)\n",
    "    move(f, t)\n",
    "    hanoi(n-1, h, f, t)"
   ]
  },
  {
   "cell_type": "code",
   "execution_count": 24,
   "metadata": {},
   "outputs": [
    {
     "name": "stdout",
     "output_type": "stream",
     "text": [
      "Move disc from a to b!\n",
      "Move disc from a to c!\n",
      "Move disc from b to c!\n",
      "Move disc from a to b!\n",
      "Move disc from c to a!\n",
      "Move disc from c to b!\n",
      "Move disc from a to b!\n",
      "Move disc from a to c!\n",
      "Move disc from b to c!\n",
      "Move disc from b to a!\n",
      "Move disc from c to a!\n",
      "Move disc from b to c!\n",
      "Move disc from a to b!\n",
      "Move disc from a to c!\n",
      "Move disc from b to c!\n"
     ]
    }
   ],
   "source": [
    "hanoi(4, 'a', 'b', 'c')"
   ]
  },
  {
   "cell_type": "code",
   "execution_count": null,
   "metadata": {},
   "outputs": [],
   "source": []
  }
 ],
 "metadata": {
  "kernelspec": {
   "display_name": "Python 3",
   "language": "python",
   "name": "python3"
  },
  "language_info": {
   "codemirror_mode": {
    "name": "ipython",
    "version": 3
   },
   "file_extension": ".py",
   "mimetype": "text/x-python",
   "name": "python",
   "nbconvert_exporter": "python",
   "pygments_lexer": "ipython3",
   "version": "3.8.2"
  }
 },
 "nbformat": 4,
 "nbformat_minor": 4
}
